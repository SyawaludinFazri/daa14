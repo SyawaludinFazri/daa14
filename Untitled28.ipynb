{
  "nbformat": 4,
  "nbformat_minor": 0,
  "metadata": {
    "colab": {
      "name": "Untitled28.ipynb",
      "provenance": []
    },
    "kernelspec": {
      "name": "python3",
      "display_name": "Python 3"
    },
    "language_info": {
      "name": "python"
    }
  },
  "cells": [
    {
      "cell_type": "code",
      "metadata": {
        "id": "m4ukfnsnAEz8"
      },
      "source": [
        "import networkx as nx\n",
        "import matplotlib.pyplot as plt"
      ],
      "execution_count": null,
      "outputs": []
    },
    {
      "cell_type": "code",
      "metadata": {
        "id": "hoMFaW0tCL4P"
      },
      "source": [
        "vertices = range(1,11)\n",
        "edges= [(1,2), (1,7),\n",
        "        (2,3), (2,6),\n",
        "        (3,4), (3,6),\n",
        "        (5,6),\n",
        "        (6,7), (7,10), (7, 9),\n",
        "        (8,7),\n",
        "        (9,8),]"
      ],
      "execution_count": null,
      "outputs": []
    },
    {
      "cell_type": "code",
      "metadata": {
        "id": "kvj1YdRmDkH3"
      },
      "source": [
        "G = nx.Graph()"
      ],
      "execution_count": null,
      "outputs": []
    },
    {
      "cell_type": "code",
      "metadata": {
        "id": "t3FYRVeZDwpw"
      },
      "source": [
        "G.add_nodes_from(vertices)\n",
        "G.add_edges_from(edges)\n",
        "pos=nx.spring_layout(G)"
      ],
      "execution_count": null,
      "outputs": []
    },
    {
      "cell_type": "code",
      "metadata": {
        "colab": {
          "base_uri": "https://localhost:8080/",
          "height": 422
        },
        "id": "opDKhnzvGa_A",
        "outputId": "7b37e1b8-874b-443b-9aa6-e556fbd90b27"
      },
      "source": [
        "nx.draw_networkx_nodes(G,pos,nodelist=[1,4,5,7,10],node_color='g',node_size=1500)\n",
        "nx.draw_networkx_nodes(G,pos,nodelist=[2,3,6,8,9],node_color='r',node_size=1500)\n",
        "nx.draw_networkx_edges(G,pos,edges,width=5,alpha=0.5,edge_color='b')\n",
        "labels={}\n",
        "labels[1]=r'1 F'\n",
        "labels[2]=r'2 NF'\n",
        "labels[3]=r'3 NF'\n",
        "labels[4]=r'4 F'\n",
        "labels[5]=r'5 F'\n",
        "labels[6]=r'6 NF'\n",
        "labels[7]=r'7 F'\n",
        "labels[8]=r'8 NF'\n",
        "labels[9]=r'9 NF'\n",
        "labels[10]=r'10 F'\n",
        "\n",
        "nx.draw_networkx_labels(G,pos,labels,font_size=16)\n",
        "\n"
      ],
      "execution_count": null,
      "outputs": [
        {
          "output_type": "execute_result",
          "data": {
            "text/plain": [
              "{1: Text(0.11317098968396608, -0.24940852067575417, '1 F'),\n",
              " 2: Text(0.3795094329144048, 0.05855755477383434, '2 NF'),\n",
              " 3: Text(0.5796910230302582, 0.35696547728475303, '3 NF'),\n",
              " 4: Text(1.0, 0.5170044516220962, '4 F'),\n",
              " 5: Text(-0.05274037800925378, 0.6759537514819027, '5 F'),\n",
              " 6: Text(0.083296251154929, 0.23957091512077575, '6 NF'),\n",
              " 7: Text(-0.31544353199461, -0.23835090381051846, '7 F'),\n",
              " 8: Text(-0.4014376797153202, -0.6792757627115618, '8 NF'),\n",
              " 9: Text(-0.6262507617613217, -0.5647953050906606, '9 NF'),\n",
              " 10: Text(-0.7597953453030527, -0.11622165799486736, '10 F')}"
            ]
          },
          "metadata": {},
          "execution_count": 22
        },
        {
          "output_type": "display_data",
          "data": {
            "image/png": "[encoded data removed]",
            "text/plain": [
              "<Figure size 432x288 with 1 Axes>"
            ]
          },
          "metadata": {}
        }
      ]
    },
    {
      "cell_type": "code",
      "metadata": {
        "id": "t85xWrxNaaHq"
      },
      "source": [
        "vertices = range(1,14)\n",
        "edges= [(1,2), (1,3),\n",
        "        (2,3), (2,12), (3,12),\n",
        "        (3,4), (3,11), (3,10),\n",
        "        (5,4),(5,7),(5,8),(5,6), (5,9),\n",
        "        (7,4), (6,4), (6,9),(8,9),(7,8),\n",
        "        (11,12), (12,13),(10,11),]"
      ],
      "execution_count": null,
      "outputs": []
    },
    {
      "cell_type": "code",
      "metadata": {
        "id": "nZFNWLxiacVE"
      },
      "source": [
        "G = nx.Graph()"
      ],
      "execution_count": null,
      "outputs": []
    },
    {
      "cell_type": "code",
      "metadata": {
        "id": "22pzU2ARaeqN"
      },
      "source": [
        "G.add_nodes_from(vertices)\n",
        "G.add_edges_from(edges)\n",
        "pos=nx.spring_layout(G)"
      ],
      "execution_count": null,
      "outputs": []
    },
    {
      "cell_type": "code",
      "metadata": {
        "colab": {
          "base_uri": "https://localhost:8080/",
          "height": 474
        },
        "id": "yzwsLKsVahGB",
        "outputId": "7bec8207-2c52-417f-d8ad-7ee14e1ad16d"
      },
      "source": [
        "nx.draw_networkx_nodes(G,pos,nodelist=[1,2,3,10,11,12],node_color='g',node_size=1500)\n",
        "nx.draw_networkx_nodes(G,pos,nodelist=[4,5,6,7,8,9,13],node_color='r',node_size=1500)\n",
        "nx.draw_networkx_edges(G,pos,edges,width=5,alpha=0.5,edge_color='b')\n",
        "labels={}\n",
        "labels[1]=r'1 F'\n",
        "labels[2]=r'2 F'\n",
        "labels[3]=r'3 F'\n",
        "labels[4]=r'4 NF'\n",
        "labels[5]=r'5 NF'\n",
        "labels[6]=r'6 NF'\n",
        "labels[7]=r'7 NF'\n",
        "labels[8]=r'8 NF'\n",
        "labels[9]=r'9 NF'\n",
        "labels[10]=r'10 F'\n",
        "labels[11]=r'11 F'\n",
        "labels[12]=r'12 F'\n",
        "labels[13]=r'13 NF'\n",
        "\n",
        "nx.draw_networkx_labels(G,pos,labels,font_size=16)\n"
      ],
      "execution_count": null,
      "outputs": [
        {
          "output_type": "execute_result",
          "data": {
            "text/plain": [
              "{1: Text(-0.4932742964884886, 0.27113871931052375, '1 F'),\n",
              " 2: Text(-0.5469194423415781, -0.027132859890725204, '2 F'),\n",
              " 3: Text(-0.34974027717523754, -0.02807273411735617, '3 F'),\n",
              " 4: Text(0.3037780190074397, 0.09332749141315719, '4 NF'),\n",
              " 5: Text(0.7187721015057376, 0.1706799640298488, '5 NF'),\n",
              " 6: Text(0.6910408741088592, -0.05254468324409367, '6 NF'),\n",
              " 7: Text(0.6107635493669836, 0.3687265874907453, '7 NF'),\n",
              " 8: Text(0.9492233243807753, 0.3596266256045164, '8 NF'),\n",
              " 9: Text(1.0, 0.08131733240903248, '9 NF'),\n",
              " 10: Text(-0.786066355809032, 0.06097982383049688, '10 F'),\n",
              " 11: Text(-0.7252669426097466, -0.18055248552891237, '11 F'),\n",
              " 12: Text(-0.5951975409546528, -0.37474970401441166, '12 F'),\n",
              " 13: Text(-0.7771130129910608, -0.7427440772928232, '13 NF')}"
            ]
          },
          "metadata": {},
          "execution_count": 31
        },
        {
          "output_type": "display_data",
          "data": {
            "image/png": "[encoded data removed]",
            "text/plain": [
              "<Figure size 432x288 with 1 Axes>"
            ]
          },
          "metadata": {}
        }
      ]
    }
  ]
}